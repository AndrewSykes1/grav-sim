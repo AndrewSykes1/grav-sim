{
 "cells": [
  {
   "cell_type": "code",
   "execution_count": 24,
   "metadata": {},
   "outputs": [],
   "source": [
    "#Constants\n",
    "G = 6.67430*10**(-11)"
   ]
  },
  {
   "cell_type": "code",
   "execution_count": 25,
   "metadata": {},
   "outputs": [],
   "source": [
    "# Planet initial locations and velocities\n",
    "pos_planet1 = [0,0,0]\n",
    "vel_planet1 = [0,0,0]\n",
    "acc_planet1 = [0,0,0]\n",
    "mass_planet1 = 200\n",
    "pos_planet2 = [5,10,15]\n",
    "vel_planet2 = [0,0,0]\n",
    "acc_planet2 = [0,0,0]\n",
    "mass_planet2 = 500"
   ]
  },
  {
   "cell_type": "code",
   "execution_count": 26,
   "metadata": {},
   "outputs": [],
   "source": [
    "def distance(pos1:list,pos2:list):\n",
    "    temp = 0\n",
    "    for i in range(len(pos1)):\n",
    "        temp += (pos1[i] - pos2[i])**2\n",
    "    return temp**(1/2)\n",
    "\n",
    "def calc_gravF(m1,m2,r):\n",
    "    return G * m1 * m2 / (r ** 2)\n"
   ]
  },
  {
   "cell_type": "code",
   "execution_count": 28,
   "metadata": {},
   "outputs": [
    {
     "name": "stdout",
     "output_type": "stream",
     "text": [
      "[6.8376979776690346e-09, 1.3675395955338069e-08, -1.5289557487680802e-08]\n"
     ]
    },
    {
     "ename": "NameError",
     "evalue": "",
     "output_type": "error",
     "traceback": [
      "\u001b[1;31m---------------------------------------------------------------------------\u001b[0m",
      "\u001b[1;31mNameError\u001b[0m                                 Traceback (most recent call last)",
      "Cell \u001b[1;32mIn[28], line 36\u001b[0m\n\u001b[0;32m     28\u001b[0m force_vector[\u001b[38;5;241m2\u001b[39m] \u001b[38;5;241m=\u001b[39m dist_term\n\u001b[0;32m     35\u001b[0m \u001b[38;5;28mprint\u001b[39m(force_vector)\n\u001b[1;32m---> 36\u001b[0m \u001b[38;5;28;01mraise\u001b[39;00m \u001b[38;5;167;01mNameError\u001b[39;00m\n",
      "\u001b[1;31mNameError\u001b[0m: "
     ]
    }
   ],
   "source": [
    "# For loop to simulate frames\n",
    "simulation_length = 1000 # Each frame represents 1 second\n",
    "for frame in range(simulation_length):\n",
    "\n",
    "    pos_planet1 = pos_planet1 + vel_planet1\n",
    "    pos_planet2 = pos_planet2 + vel_planet2\n",
    "\n",
    "    vel_planet1 = vel_planet1 + acc_planet1\n",
    "    vel_planet2 = vel_planet2 + acc_planet2\n",
    "\n",
    "    acc_planet1 = [0,0,0]\n",
    "    acc_planet2 = [0,0,0]\n",
    "\n",
    "    r = distance(pos_planet1,pos_planet2)\n",
    "    force_mag = calc_gravF(mass_planet1, mass_planet2, r)\n",
    "    force_vector = [0,0,0]\n",
    "\n",
    "    x_dist = pos_planet1[0]-pos_planet2[0]\n",
    "    y_dist = pos_planet1[1]-pos_planet2[1]\n",
    "    z_dist = pos_planet1[2]-pos_planet2[2]\n",
    "\n",
    "    dist_term = force_mag*z_dist/((x_dist)**2+(y_dist)**2+(z_dist)**2)**(1/2)\n",
    "\n",
    "\n",
    "\n",
    "    force_vector[0] = dist_term*(x_dist)/(x_dist**2 + y_dist**2)**(1/2)\n",
    "    force_vector[1] = dist_term*(y_dist)/(x_dist**2 + y_dist**2)**(1/2)\n",
    "    force_vector[2] = dist_term\n",
    "\n",
    "\n",
    "\n",
    "\n",
    "\n",
    "\n",
    "    print(force_vector)\n",
    "    raise NameError"
   ]
  }
 ],
 "metadata": {
  "kernelspec": {
   "display_name": ".venv",
   "language": "python",
   "name": "python3"
  },
  "language_info": {
   "codemirror_mode": {
    "name": "ipython",
    "version": 3
   },
   "file_extension": ".py",
   "mimetype": "text/x-python",
   "name": "python",
   "nbconvert_exporter": "python",
   "pygments_lexer": "ipython3",
   "version": "3.11.9"
  }
 },
 "nbformat": 4,
 "nbformat_minor": 2
}
