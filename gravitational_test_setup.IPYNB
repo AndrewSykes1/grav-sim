{
 "cells": [
  {
   "cell_type": "code",
   "execution_count": null,
   "metadata": {},
   "outputs": [],
   "source": [
    "#Constants\n",
    "G = 6.67430*10**(-11)"
   ]
  },
  {
   "cell_type": "code",
   "execution_count": null,
   "metadata": {},
   "outputs": [],
   "source": [
    "def calc_gravF(m1,m2,r):\n",
    "    return G * m1 * m2 / (r ** 2)"
   ]
  },
  {
   "cell_type": "code",
   "execution_count": null,
   "metadata": {},
   "outputs": [],
   "source": [
    "# For loop to simulate frames\n",
    "simulation_length = 1000 # Each frame represents 1 second\n",
    "for frame in range(simulation_length):\n"
   ]
  }
 ],
 "metadata": {
  "language_info": {
   "name": "python"
  }
 },
 "nbformat": 4,
 "nbformat_minor": 2
}
