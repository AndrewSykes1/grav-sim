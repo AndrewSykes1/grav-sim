{
 "cells": [
  {
   "cell_type": "code",
   "execution_count": 16,
   "metadata": {},
   "outputs": [],
   "source": [
    "import matplotlib.pyplot as plt\n",
    "import numpy as np\n",
    "import math"
   ]
  },
  {
   "cell_type": "code",
   "execution_count": 17,
   "metadata": {},
   "outputs": [],
   "source": [
    "#Constants\n",
    "G = 6.67430*10**(-11)\n",
    "EM_DIST = 3.84*10**8\n",
    "E_MASS = 5.9*10**24\n",
    "V_0 = 10**3"
   ]
  },
  {
   "cell_type": "code",
   "execution_count": 18,
   "metadata": {},
   "outputs": [],
   "source": [
    "planet_count = 4\n",
    "\n",
    "pos_planet0 = [-EM_DIST,0,0]\n",
    "pos_planet1 = [0,EM_DIST,0]\n",
    "pos_planet2 = [EM_DIST,0,0]\n",
    "pos_planet3 = [0,-EM_DIST,0]\n",
    "\n",
    "vel_planet0 = [0,-V_0,0]\n",
    "vel_planet1 = [-V_0,0,0]\n",
    "vel_planet2 = [0,V_0,0]\n",
    "vel_planet3 = [V_0,0,0]\n",
    "\n",
    "mass_planet0 = E_MASS\n",
    "mass_planet1 = E_MASS\n",
    "mass_planet2 = E_MASS\n",
    "mass_planet3 = E_MASS"
   ]
  },
  {
   "cell_type": "code",
   "execution_count": 19,
   "metadata": {},
   "outputs": [],
   "source": [
    "pos_planet_list = [pos_planet0, pos_planet1, pos_planet2, pos_planet3]\n",
    "vel_planet_list = [vel_planet0, vel_planet1, vel_planet2, vel_planet3]\n",
    "mass_planet_list = [mass_planet0, mass_planet1, mass_planet2, mass_planet3]"
   ]
  },
  {
   "cell_type": "code",
   "execution_count": 20,
   "metadata": {},
   "outputs": [],
   "source": [
    "planet_info_dict = {}\n",
    "\n",
    "for i in range(planet_count):\n",
    "    planet_number = i\n",
    "    planet_info_dict[planet_number] = {}\n",
    "    planet_info_dict[planet_number]['pos'] = pos_planet_list[i]\n",
    "    planet_info_dict[planet_number]['vel'] = vel_planet_list[i]\n",
    "    planet_info_dict[planet_number]['acc'] = [0,0,0]\n",
    "    planet_info_dict[planet_number]['mass'] = mass_planet_list[i]"
   ]
  },
  {
   "cell_type": "code",
   "execution_count": 21,
   "metadata": {},
   "outputs": [
    {
     "name": "stdout",
     "output_type": "stream",
     "text": [
      "{0: {'pos': [-384000000.0, 0, 0], 'vel': [0, -1000, 0], 'acc': [0, 0, 0], 'mass': 5.9e+24}, 1: {'pos': [0, 384000000.0, 0], 'vel': [-1000, 0, 0], 'acc': [0, 0, 0], 'mass': 5.9e+24}, 2: {'pos': [384000000.0, 0, 0], 'vel': [0, 1000, 0], 'acc': [0, 0, 0], 'mass': 5.9e+24}, 3: {'pos': [0, -384000000.0, 0], 'vel': [1000, 0, 0], 'acc': [0, 0, 0], 'mass': 5.9e+24}}\n"
     ]
    }
   ],
   "source": [
    "print(planet_info_dict)"
   ]
  },
  {
   "cell_type": "code",
   "execution_count": 22,
   "metadata": {},
   "outputs": [],
   "source": [
    "# For loop to simulate frames\n",
    "information_dict = {}\n",
    "\n",
    "der_names = [\"pos\",\"vel\",\"acc\"]\n",
    "for i in range(planet_count):\n",
    "    information_dict[i] = {}\n",
    "    \n",
    "    for j in range(3):\n",
    "        information_dict[i][der_names[j]] = []\n",
    "        information_dict[i][der_names[j]].append(planet_info_dict[i][der_names[j]])"
   ]
  },
  {
   "cell_type": "code",
   "execution_count": 23,
   "metadata": {},
   "outputs": [
    {
     "name": "stdout",
     "output_type": "stream",
     "text": [
      "Days:11.574074074074074\n"
     ]
    }
   ],
   "source": [
    "simulation_length = 10**6 # Each frame represents 1 second\n",
    "print(f'Days:{simulation_length/60/60/24}')"
   ]
  },
  {
   "cell_type": "code",
   "execution_count": 24,
   "metadata": {},
   "outputs": [
    {
     "name": "stdout",
     "output_type": "stream",
     "text": [
      "{0: {'pos': [[-384000000.0, 0, 0]], 'vel': [[0, -1000, 0]], 'acc': [[0, 0, 0]]}, 1: {'pos': [[0, 384000000.0, 0]], 'vel': [[-1000, 0, 0]], 'acc': [[0, 0, 0]]}, 2: {'pos': [[384000000.0, 0, 0]], 'vel': [[0, 1000, 0]], 'acc': [[0, 0, 0]]}, 3: {'pos': [[0, -384000000.0, 0]], 'vel': [[1000, 0, 0]], 'acc': [[0, 0, 0]]}}\n",
      "{0: {'pos': [-384000000.0, 0, 0], 'vel': [0, -1000, 0], 'acc': [0, 0, 0]}, 1: {'pos': [0, 384000000.0, 0], 'vel': [-1000, 0, 0], 'acc': [0, 0, 0]}, 2: {'pos': [384000000.0, 0, 0], 'vel': [0, 1000, 0], 'acc': [0, 0, 0]}, 3: {'pos': [0, -384000000.0, 0], 'vel': [1000, 0, 0], 'acc': [0, 0, 0]}}\n"
     ]
    }
   ],
   "source": [
    "print(information_dict)\n",
    "for i in range(planet_count):\n",
    "    del planet_info_dict[i]['mass']\n",
    "print(planet_info_dict)"
   ]
  },
  {
   "cell_type": "code",
   "execution_count": 25,
   "metadata": {},
   "outputs": [],
   "source": [
    "def calc_gravF(mass_list, pos_list): # mass_list = [m1,m2,m3], pos_list = [[x1,x2,x3], ... ,[x1,x2,x3]]\n",
    "    \n",
    "    force_vector_dict = {}\n",
    "    for i in range(len(mass_list)):\n",
    "\n",
    "        net_x_force = 0\n",
    "        net_y_force = 0\n",
    "        net_z_force = 0\n",
    "\n",
    "        for j in range(len(mass_list)):\n",
    "            if i == j:\n",
    "                continue\n",
    "\n",
    "            posA = pos_list[i]\n",
    "            posB = pos_list[j]\n",
    "            \n",
    "            x_dist = posB[0] - posA[0]\n",
    "            y_dist = posB[1] - posA[1]\n",
    "            z_dist = posB[2] - posA[2]            \n",
    "            \n",
    "            ABdist = math.sqrt((x_dist)**2 + (y_dist)**2 + (z_dist)**2)\n",
    "            ABforce_mag = G*mass_list[i]*mass_list[j]/(ABdist**2)\n",
    "            \n",
    "            net_x_force += ABforce_mag/ABdist*(x_dist)\n",
    "            net_y_force += ABforce_mag/ABdist*(y_dist)\n",
    "            net_z_force += ABforce_mag/ABdist*(z_dist)\n",
    "            \n",
    "        force_vector_dict[i] = [net_x_force, net_y_force, net_z_force]\n",
    "\n",
    "    acc_vector_dict = {}\n",
    "    for i in range(len(mass_list)):\n",
    "        acc_vector_dict[i] = [force_vector_dict[i][0] / mass_list[i],\n",
    "                              force_vector_dict[i][1] / mass_list[i],\n",
    "                              force_vector_dict[i][2] / mass_list[i]] \n",
    "    \n",
    "    return acc_vector_dict # = {0:[ax,ay,az], ... ,n:[ax,ay,az]}"
   ]
  },
  {
   "cell_type": "code",
   "execution_count": 26,
   "metadata": {},
   "outputs": [
    {
     "name": "stdout",
     "output_type": "stream",
     "text": [
      "Percent done: 0% Frame: 0\n",
      "Percent done: 10% Frame: 100000\n",
      "Percent done: 20% Frame: 200000\n",
      "Percent done: 30% Frame: 300000\n",
      "Percent done: 40% Frame: 400000\n",
      "Percent done: 50% Frame: 500000\n",
      "Percent done: 60% Frame: 600000\n",
      "Percent done: 70% Frame: 700000\n",
      "Percent done: 80% Frame: 800000\n",
      "Percent done: 90% Frame: 900000\n",
      "Percent done: 100% Frame: 1000000\n"
     ]
    }
   ],
   "source": [
    "temp = 0\n",
    "\n",
    "for frame in range(simulation_length):\n",
    "\n",
    "    for i in range(planet_count):\n",
    "        for j in range(len(der_names)):\n",
    "            if j == 2:\n",
    "                break\n",
    "            planet_info_dict[i][der_names[j]] = [x + y for x, y in zip(planet_info_dict[i][der_names[j]], planet_info_dict[i][der_names[j+1]])]\n",
    "        planet_info_dict[i]['acc'] = [0,0,0]\n",
    "\n",
    "    pos_list = []\n",
    "    for i in range(planet_count):\n",
    "        pos_list.append(planet_info_dict[i]['pos'])\n",
    "\n",
    "    acc_vec_dict = calc_gravF(mass_planet_list, pos_list)\n",
    "    for i in range(planet_count):\n",
    "        planet_info_dict[i]['acc'] = acc_vec_dict[i]\n",
    "    \n",
    "    for i in range(planet_count):\n",
    "        for j in range(len(der_names)):\n",
    "            information_dict[i][der_names[j]].append(planet_info_dict[i][der_names[j]])\n",
    "\n",
    "    if frame % (simulation_length/10) == 0:\n",
    "        print(f'Percent done: {temp*10}% Frame: {frame}')\n",
    "        temp += 1\n",
    "print(f'Percent done: 100% Frame: {simulation_length}')"
   ]
  },
  {
   "cell_type": "code",
   "execution_count": 27,
   "metadata": {},
   "outputs": [],
   "source": [
    "x_y_dicts = {}\n",
    "for i in range(planet_count):\n",
    "    x_y_dicts[i] = [[],[]]\n",
    "\n",
    "for i in range(planet_count):\n",
    "    for j in range(len(information_dict[i]['pos'])):\n",
    "        x_y_dicts[i][0].append(information_dict[i]['pos'][j][0])\n",
    "        x_y_dicts[i][1].append(information_dict[i]['pos'][j][1])\n",
    "    "
   ]
  },
  {
   "cell_type": "code",
   "execution_count": 28,
   "metadata": {},
   "outputs": [
    {
     "name": "stdout",
     "output_type": "stream",
     "text": [
      "950000 1000001\n"
     ]
    }
   ],
   "source": [
    "percent = .95\n",
    "set_max = int(percent*len(x_y_dicts[0][0]))\n",
    "print(set_max, len(x_y_dicts[0][0]))"
   ]
  },
  {
   "cell_type": "code",
   "execution_count": 29,
   "metadata": {},
   "outputs": [
    {
     "name": "stderr",
     "output_type": "stream",
     "text": [
      "c:\\SZvsWorkspace\\PersonalProjects\\Grav_Sim\\.venv\\Lib\\site-packages\\IPython\\core\\pylabtools.py:170: UserWarning: Creating legend with loc=\"best\" can be slow with large amounts of data.\n",
      "  fig.canvas.print_figure(bytes_io, **kw)\n"
     ]
    },
    {
     "data": {
      "image/png": "[encoded data removed]",
      "text/plain": [
       "<Figure size 640x480 with 2 Axes>"
      ]
     },
     "metadata": {},
     "output_type": "display_data"
    }
   ],
   "source": [
    "color_list = ['Blues','Reds','Oranges','Greens']\n",
    "\n",
    "\n",
    "for i in range(planet_count):\n",
    "    time = np.linspace(0, 1, set_max)\n",
    "    plt.scatter(x_y_dicts[i][0][0:set_max], x_y_dicts[i][1][0:set_max], c=time, cmap=color_list[i], label=f'Grav Object {i}', s=50)\n",
    "\n",
    "plt.colorbar(label='Time Progression')\n",
    "plt.xlabel('X axis')\n",
    "plt.ylabel('Y axis')\n",
    "plt.title('Planetary Motion')\n",
    "plt.legend()\n",
    "plt.show()"
   ]
  },
  {
   "cell_type": "code",
   "execution_count": 30,
   "metadata": {},
   "outputs": [
    {
     "ename": "KeyError",
     "evalue": "'p1'",
     "output_type": "error",
     "traceback": [
      "\u001b[1;31m---------------------------------------------------------------------------\u001b[0m",
      "\u001b[1;31mKeyError\u001b[0m                                  Traceback (most recent call last)",
      "Cell \u001b[1;32mIn[30], line 2\u001b[0m\n\u001b[0;32m      1\u001b[0m \u001b[38;5;28;01mfor\u001b[39;00m frame \u001b[38;5;129;01min\u001b[39;00m \u001b[38;5;28mrange\u001b[39m(simulation_length):\n\u001b[1;32m----> 2\u001b[0m     \u001b[38;5;28;01mif\u001b[39;00m \u001b[43minformation_dict\u001b[49m\u001b[43m[\u001b[49m\u001b[38;5;124;43m'\u001b[39;49m\u001b[38;5;124;43mp1\u001b[39;49m\u001b[38;5;124;43m'\u001b[39;49m\u001b[43m]\u001b[49m[\u001b[38;5;124m'\u001b[39m\u001b[38;5;124mpos\u001b[39m\u001b[38;5;124m'\u001b[39m][frame][\u001b[38;5;241m0\u001b[39m] \u001b[38;5;241m>\u001b[39m information_dict[\u001b[38;5;124m'\u001b[39m\u001b[38;5;124mp2\u001b[39m\u001b[38;5;124m'\u001b[39m][\u001b[38;5;124m'\u001b[39m\u001b[38;5;124mpos\u001b[39m\u001b[38;5;124m'\u001b[39m][frame][\u001b[38;5;241m0\u001b[39m]:\n\u001b[0;32m      3\u001b[0m         x_position_of_crossover \u001b[38;5;241m=\u001b[39m (information_dict[\u001b[38;5;124m'\u001b[39m\u001b[38;5;124mp2\u001b[39m\u001b[38;5;124m'\u001b[39m][\u001b[38;5;124m'\u001b[39m\u001b[38;5;124mpos\u001b[39m\u001b[38;5;124m'\u001b[39m][frame\u001b[38;5;241m-\u001b[39m\u001b[38;5;241m1\u001b[39m][\u001b[38;5;241m0\u001b[39m] \u001b[38;5;241m+\u001b[39m information_dict[\u001b[38;5;124m'\u001b[39m\u001b[38;5;124mp1\u001b[39m\u001b[38;5;124m'\u001b[39m][\u001b[38;5;124m'\u001b[39m\u001b[38;5;124mpos\u001b[39m\u001b[38;5;124m'\u001b[39m][frame\u001b[38;5;241m-\u001b[39m\u001b[38;5;241m1\u001b[39m][\u001b[38;5;241m0\u001b[39m])\u001b[38;5;241m/\u001b[39m\u001b[38;5;241m2\u001b[39m\n\u001b[0;32m      4\u001b[0m         y_position_of_crossover \u001b[38;5;241m=\u001b[39m (information_dict[\u001b[38;5;124m'\u001b[39m\u001b[38;5;124mp2\u001b[39m\u001b[38;5;124m'\u001b[39m][\u001b[38;5;124m'\u001b[39m\u001b[38;5;124mpos\u001b[39m\u001b[38;5;124m'\u001b[39m][frame\u001b[38;5;241m-\u001b[39m\u001b[38;5;241m1\u001b[39m][\u001b[38;5;241m1\u001b[39m] \u001b[38;5;241m+\u001b[39m information_dict[\u001b[38;5;124m'\u001b[39m\u001b[38;5;124mp1\u001b[39m\u001b[38;5;124m'\u001b[39m][\u001b[38;5;124m'\u001b[39m\u001b[38;5;124mpos\u001b[39m\u001b[38;5;124m'\u001b[39m][frame\u001b[38;5;241m-\u001b[39m\u001b[38;5;241m1\u001b[39m][\u001b[38;5;241m1\u001b[39m])\u001b[38;5;241m/\u001b[39m\u001b[38;5;241m2\u001b[39m\n",
      "\u001b[1;31mKeyError\u001b[0m: 'p1'"
     ]
    }
   ],
   "source": [
    "for frame in range(simulation_length):\n",
    "    if information_dict['p1']['pos'][frame][0] > information_dict['p2']['pos'][frame][0]:\n",
    "        x_position_of_crossover = (information_dict['p2']['pos'][frame-1][0] + information_dict['p1']['pos'][frame-1][0])/2\n",
    "        y_position_of_crossover = (information_dict['p2']['pos'][frame-1][1] + information_dict['p1']['pos'][frame-1][1])/2\n",
    "        print(f'+=+= Collision Data =+=+\\nFrame: {frame}\\nTime: {round(frame/60/60/24,4)} Days\\nIntersection Position: ({\"{:e}\".format(x_position_of_crossover)},{\"{:e}\".format(y_position_of_crossover)}) Meters')\n",
    "        break"
   ]
  },
  {
   "cell_type": "code",
   "execution_count": 9,
   "metadata": {},
   "outputs": [],
   "source": [
    "percent = .95\n",
    "set_max = int(percent*len(x1_pos))"
   ]
  },
  {
   "cell_type": "code",
   "execution_count": null,
   "metadata": {},
   "outputs": [],
   "source": [
    "time1 = np.linspace(0, 1, int(percent*len(x1_pos)))\n",
    "time2 = np.linspace(0, 1, int(percent*len(x2_pos)))\n",
    "\n",
    "plt.scatter(x1_pos[0:set_max], y1_pos[0:set_max], c=time1, cmap='Blues', label='Grav Object 1', s=50)\n",
    "plt.scatter(x2_pos[0:set_max], y2_pos[0:set_max], c=time2, cmap='Reds', label='Grav Object 2', s=50)\n",
    "\n",
    "plt.colorbar(label='Time Progression')\n",
    "plt.xlabel('X axis')\n",
    "plt.ylabel('Y axis')\n",
    "plt.title('Planetary Motion')\n",
    "plt.legend()\n",
    "plt.show()"
   ]
  },
  {
   "cell_type": "code",
   "execution_count": null,
   "metadata": {},
   "outputs": [],
   "source": [
    "plt.plot(x1_pos, y1_pos)"
   ]
  },
  {
   "cell_type": "code",
   "execution_count": null,
   "metadata": {},
   "outputs": [],
   "source": [
    "plt.plot(x2_pos, y2_pos)"
   ]
  }
 ],
 "metadata": {
  "kernelspec": {
   "display_name": ".venv",
   "language": "python",
   "name": "python3"
  },
  "language_info": {
   "codemirror_mode": {
    "name": "ipython",
    "version": 3
   },
   "file_extension": ".py",
   "mimetype": "text/x-python",
   "name": "python",
   "nbconvert_exporter": "python",
   "pygments_lexer": "ipython3",
   "version": "3.11.9"
  }
 },
 "nbformat": 4,
 "nbformat_minor": 2
}
